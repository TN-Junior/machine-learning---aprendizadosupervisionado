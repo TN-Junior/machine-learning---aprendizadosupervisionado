{
  "cells": [
    {
      "cell_type": "markdown",
      "metadata": {
        "id": "40b90843"
      },
      "source": [
        "\n",
        "<img src=\"https://www1.unicap.br/pagina-antiga/wp-content/uploads/2020/03/DIVULGA%C3%87%C3%95ES.jpg\" width=500, align=\"left\">\n",
        "\n",
        "<h1 align=left><font size = 8, style=\"color:rgb(200,0,0)\"><b>Projeto da Disciplina </b></font></h1>"
      ]
    },
    {
      "cell_type": "markdown",
      "source": [
        "<h1 align=left><font size = 8, style=\"color:rgb(200,0,0)\"><b>Descrição do Projeto </b></font></h1>"
      ],
      "metadata": {
        "id": "3WmIevZsxw8Q"
      }
    },
    {
      "cell_type": "markdown",
      "source": [
        "\n",
        "Esta disciplina visa que os discentes adquiram a capacidade de analisar dados com a utilização de ferramentas de tecnologia para extrair informações relevântes que auxiliem na tomada de decisão. <br>\n"
      ],
      "metadata": {
        "id": "70VoLcJXxvVL"
      }
    },
    {
      "cell_type": "markdown",
      "source": [
        "\n",
        "## **Avaliação**\n",
        "\n",
        "\n"
      ],
      "metadata": {
        "id": "N48BeNBX2KJc"
      }
    },
    {
      "cell_type": "markdown",
      "source": [
        "Seis fases deverão ser completadas com exito para a aprovação da disciplina: <br>\n",
        "\n",
        "1. Capacidade para a coleta de dados\n",
        "2. Habilidade na utilização do Python como linguagem de programação;\n",
        "3. Utilização de técnicas da estatistica descriptiva para a extração de informações. <br>\n",
        "4. Capacidade para comunicar as informações aos stakeholders (interessados no processo) visualização.\n",
        "5. Destreza de técnicas de processamento de dados;\n",
        "6. Espertise na seleção, utilização e avaliação de técnicas/modelos de aprendizado de máquina;\n",
        "7. Apresentação do relatorio em formato de artigo.\n",
        "8. Apresentação dos Notebooks (.ipybn)"
      ],
      "metadata": {
        "id": "MBkmCj1u2Leg"
      }
    },
    {
      "cell_type": "markdown",
      "source": [
        "\n",
        "## **Requerimentos**"
      ],
      "metadata": {
        "id": "zEpPe8H-2E0q"
      }
    },
    {
      "cell_type": "markdown",
      "source": [
        "\n",
        "- O trabalho deve ser original e **desenvolvido em Python** -notebook- [GoogleColab], utilizando um conjunto de dados previamente definido em conjunto (professor e integrantes da equipe).\n",
        "<BR>\n",
        "- O **Python notebook deve ser 100% executável** (*empregue os dados a partir dos links originais*) facilitando á utilização por qualquer usuario sem que seja preciso pelo usuario: buscar/instalar/baixar ou processar dados de forma independente, portanto, o notebook deve ser totalmente automatizado.\n",
        "<br>\n",
        "- As células de código deverão estar acompanhadas de **comentarios** para facilitar a compreenssão do código.\n",
        "<br>\n",
        "- Apresentar no código cada uma das fases (problematica, Coleta de dados, analise exploratoria, processamento dos dados, aprendizado de máquina **Ver gabarito**)\n",
        "- No minimo **3 modelos de aprendizado de máquina** deverão ser avaliados e suas metricas comparadas (Regressão / Classificação)\n"
      ],
      "metadata": {
        "id": "OewFtemq2DvU"
      }
    },
    {
      "cell_type": "markdown",
      "source": [
        "# **Entregas**"
      ],
      "metadata": {
        "id": "00BfvNhX4MO4"
      }
    },
    {
      "cell_type": "markdown",
      "source": [
        "- 4 Apresentações parciais evolutivas - datas previstas\n",
        "- 1 Apresentação final - Final do Periodo\n",
        "- Notebook Códigos"
      ],
      "metadata": {
        "id": "km2KbOy833Mv"
      }
    },
    {
      "cell_type": "markdown",
      "source": [
        "# **Projeto: Estrutura Artigo Científico**\n",
        "\n",
        "**NOTA:** Neste relatorio não serão colocados os códigos dos modelos, embora, podem ser colocados códigos para a criação de figuras ou imagens."
      ],
      "metadata": {
        "id": "gPRSlrqN3qbO"
      }
    },
    {
      "cell_type": "markdown",
      "source": [
        "\n",
        "\n",
        "1. **Título**\n",
        "2. **Resumo (Abstract)**\n",
        "3. **Introdução**\n",
        "4. **Trabalhos Relacionados (Related Work)**\n",
        "5. **Metodologia**\n",
        "6. **Experimentos e Resultados**\n",
        "7. **Discussão**\n",
        "8. **Conclusão**\n",
        "9. **Referências**\n"
      ],
      "metadata": {
        "id": "GD1ScwXqyRW9"
      }
    },
    {
      "cell_type": "markdown",
      "source": [
        "## 1. Título\n",
        "\n"
      ],
      "metadata": {
        "id": "smPk0xkjzRdG"
      }
    },
    {
      "cell_type": "markdown",
      "source": [
        "\n",
        "**Exemplo:**  \n",
        "\"Aplicações de Aprendizado de Máquina para Detecção de Anomalias em Redes de Computadores\""
      ],
      "metadata": {
        "id": "aJG74iDr53S7"
      }
    },
    {
      "cell_type": "markdown",
      "source": [
        "## **Educação e Segurança: Utilização do Aprendizado de Máquina para a avaliação do Impacto dos Índices Escolares nos Índices de Criminalidade em Pernambuco**"
      ],
      "metadata": {
        "id": "X_S2lldNzvOe"
      }
    },
    {
      "cell_type": "markdown",
      "source": [
        "\n",
        "## **2. Resumo (Abstract)** [última etapa]\n",
        "\n",
        "Um resumo de artigo científico geralmente é composto de um único parágrafo, mas pode ser dividido em dois ou três parágrafos curtos dependendo das diretrizes da publicação ou da complexidade do conteúdo.\n",
        "\n",
        "**120 - 160 palavras**\n",
        "\n"
      ],
      "metadata": {
        "id": "Hr0hEYevzeU2"
      }
    },
    {
      "cell_type": "markdown",
      "source": [
        "### **Estrutura**"
      ],
      "metadata": {
        "id": "AKKkMMq_bPxH"
      }
    },
    {
      "cell_type": "markdown",
      "source": [
        "\n",
        "\n",
        "\n",
        "1. **Primeira Parte (Objetivo):**\n",
        "   - **O que foi estudado?**\n",
        "   - **Por que é importante?**\n",
        "   - Apresente o contexto e o objetivo principal do estudo.\n",
        "\n",
        "2. **Segunda Parte (Metodologia):**\n",
        "   - **Como o estudo foi realizado?**\n",
        "   - Descreva brevemente os métodos ou técnicas utilizadas.\n",
        "\n",
        "3. **Terceira Parte (Resultados):**\n",
        "   - **O que foi descoberto?**\n",
        "   - Resuma os resultados mais importantes obtidos.\n",
        "\n",
        "4. **Quarta Parte (Conclusão):**\n",
        "   - **Qual é a implicação dos resultados?**\n",
        "   - Destaque a conclusão principal e a relevância dos resultados.\n"
      ],
      "metadata": {
        "id": "NpaKt2OkCGW9"
      }
    },
    {
      "cell_type": "markdown",
      "source": [
        "### **Exemplo**  "
      ],
      "metadata": {
        "id": "BRZYLXHWbTfP"
      }
    },
    {
      "cell_type": "markdown",
      "source": [
        "\n",
        "\n",
        "Este estudo explora a aplicação de técnicas de aprendizado de máquina para prever o desempenho acadêmico de estudantes em cursos de graduação. Utilizando um conjunto de dados de histórico escolar e características demográficas de estudantes de uma universidade brasileira, foram implementados e comparados os algoritmos Random Forest, Support Vector Machines (SVM) e Redes Neurais Artificiais (ANN). A validação dos modelos foi realizada utilizando cross-validation, e as métricas de avaliação incluíram precisão, recall e F1-score. Os resultados demonstraram que o algoritmo Random Forest obteve a melhor performance, com uma precisão de 87%, superando os outros modelos. Este estudo sugere que o uso de aprendizado de máquina pode ser uma ferramenta eficaz para identificar estudantes em risco de baixo desempenho acadêmico, permitindo intervenções precoces e personalizadas. As conclusões indicam um grande potencial para a aplicação dessas técnicas em sistemas de apoio educacional."
      ],
      "metadata": {
        "id": "k1rD266H58Ft"
      }
    },
    {
      "cell_type": "markdown",
      "source": [
        "## 2. Resumo"
      ],
      "metadata": {
        "id": "ix1ehlXR57WZ"
      }
    },
    {
      "cell_type": "markdown",
      "source": [
        "Este estudo investiga a aplicação de técnicas de aprendizado de máquina para prever o impacto dos índices educacionais nos índices de criminalidade em Pernambuco. Utilizando conjuntos de dados de crimes e informações sobre a educação por município, foram implementados e comparados os algoritmos Random Forest, KNN, Regressão Linear Múltipla, Regressão Logística e Árvores de Decisão. A validação dos modelos foi realizada com o cálculo do Erro Quadrático Médio (MSE), Erro Médio Absoluto (MAE) e valor R² (R-squared). Os resultados demonstraram que o algoritmo de Árvores de decisão apresentou a melhor performance, alcançando uma precisão de 98.59%, superando os outros modelos. Este estudo sugere que o uso de aprendizado de máquina pode ser uma ferramenta eficaz para identificar se há um impacto direto dos índices educacionais sobre os índices de criminalidade em Pernambuco, além de destacar quais municípios são mais afetados. As conclusões indicam um grande potencial para a aplicação dessas técnicas em intervenções de políticas públicas."
      ],
      "metadata": {
        "id": "Swv67xCrOa74"
      }
    },
    {
      "cell_type": "markdown",
      "source": [
        "## **2.1 Palavras chaves**"
      ],
      "metadata": {
        "id": "b80sQSuwBWKX"
      }
    },
    {
      "cell_type": "markdown",
      "source": [
        "Seja Específico:\n",
        "- Escolha termos que representem com precisão os tópicos principais do artigo.\n",
        "- Inclua Termos Técnicos Relevantes: Use terminologia específica da área que facilite a indexação do artigo em bancos de dados acadêmicos.\n",
        "- Pense nos Leitores: Considere quais termos os leitores usariam para buscar artigos relacionados ao seu tema.\n",
        "- Evite Redundâncias: As palavras-chave devem complementar o título e o resumo, sem repetir termos desnecessariamente.\n",
        "- 5 palavras que represetam o artigo"
      ],
      "metadata": {
        "id": "wyD-RGvlBe3j"
      }
    },
    {
      "cell_type": "markdown",
      "source": [
        "## **Palavras chaves**\n",
        "1. **Educação**\n",
        "2.  **Criminalidade**\n",
        "3. **Pernambuco**\n",
        "4. **machine learning**\n",
        "5. **Municípios**\n",
        "\n",
        "\n",
        "    "
      ],
      "metadata": {
        "id": "Yfai-ZQyBcCs"
      }
    },
    {
      "cell_type": "markdown",
      "source": [
        "\n",
        "## **3. Introdução**\n",
        "\n",
        "A introdução de um artigo científico tem a função de contextualizar o leitor sobre o tema, apresentar a relevância da pesquisa e definir o objetivo do estudo.\n"
      ],
      "metadata": {
        "id": "47xr75gRzf_h"
      }
    },
    {
      "cell_type": "markdown",
      "source": [
        "### **Principais Pontos de uma Introdução**"
      ],
      "metadata": {
        "id": "r_azPvMTayH2"
      }
    },
    {
      "cell_type": "markdown",
      "source": [
        "\n",
        "**Contextualização:**\n",
        "   - **Apresente o tema:** Dê uma visão geral do campo de estudo, destacando as áreas de aplicação ou o estado atual da pesquisa.\n",
        "   - **Relevância do tema:** Explique por que o tema é importante e o que motiva o estudo.\n",
        "\n",
        "**Revisão Breve da Literatura:**\n",
        "   - **Cite estudos relacionados:** Mencione brevemente pesquisas anteriores relevantes que abordam temas semelhantes ou relacionados.\n",
        "   - **Identifique lacunas:** Destaque as áreas que ainda precisam ser exploradas ou onde há oportunidades para novas contribuições.\n",
        "\n",
        "**Objetivo da Pesquisa:**\n",
        "   - **Defina o problema:** Especifique claramente qual é a questão de pesquisa que o artigo aborda.\n",
        "   - **Declare o objetivo:** Descreva o que o estudo pretende alcançar ou investigar.\n",
        "\n",
        "**Contribuição:**\n",
        "   - **Enfatize a originalidade:** Explique como o estudo contribui para o campo, seja por apresentar novos dados, métodos, ou uma nova interpretação de resultados existentes.\n",
        "   - **Estrutura do artigo (opcional):** Em alguns casos, pode ser útil indicar como o artigo está organizado, mencionando brevemente o conteúdo das seções seguintes.\n",
        "\n",
        "---\n"
      ],
      "metadata": {
        "id": "2-WTcGdZE-sS"
      }
    },
    {
      "cell_type": "markdown",
      "source": [
        "\n",
        "### **Exemplo de Introdução**"
      ],
      "metadata": {
        "id": "-58ySU8HaqRt"
      }
    },
    {
      "cell_type": "markdown",
      "source": [
        "\n",
        "Essa introdução contextualiza o tema, destaca a relevância da pesquisa, menciona estudos relacionados, identifica uma lacuna na literatura, e apresenta claramente o objetivo e a contribuição do estudo. Ela prepara o leitor para entender a importância da pesquisa e o que esperar do restante do artigo.\n",
        "\n",
        "\n",
        "**Introdução:**\n",
        "\n",
        "O aprendizado de máquina (ML) tem emergido como uma tecnologia central em diversas áreas, desde a análise de grandes volumes de dados até o desenvolvimento de sistemas inteligentes capazes de automatizar decisões complexas. Nos últimos anos, seu uso tem se expandido significativamente em setores como saúde, finanças, e segurança cibernética, onde a capacidade de aprender e adaptar-se a novos padrões é crucial. No entanto, apesar dos avanços, desafios importantes ainda persistem, particularmente na detecção de anomalias em redes de computadores, um campo vital para a proteção contra ataques cibernéticos.\n",
        "\n",
        "Diversos estudos têm explorado o uso de técnicas de aprendizado de máquina para melhorar a precisão na detecção de tráfegos de rede maliciosos. Por exemplo, Zhang et al. (2021) aplicaram redes neurais profundas para identificar padrões anômalos em tempo real, enquanto Gupta e Kumar (2020) utilizaram árvores de decisão para classificar tráfegos com alta precisão. No entanto, a maioria dessas abordagens se concentra em métodos específicos, sem uma comparação abrangente entre diferentes algoritmos aplicados ao mesmo conjunto de dados, o que limita a generalização dos resultados.\n",
        "\n",
        "Este artigo busca preencher essa lacuna ao comparar o desempenho de três algoritmos de aprendizado de máquina amplamente utilizados - Random Forest, Support Vector Machines (SVM), e Redes Neurais Artificiais (ANN) - aplicados ao conjunto de dados KDD Cup 1999, um benchmark amplamente utilizado na área de segurança de redes. O objetivo principal deste estudo é avaliar qual desses algoritmos oferece a melhor combinação de precisão e eficiência para a detecção de anomalias em redes de computadores, contribuindo assim para o desenvolvimento de soluções mais robustas e eficazes em segurança cibernética.\n",
        "\n",
        "Este trabalho oferece uma análise detalhada do desempenho desses algoritmos, considerando diferentes métricas de avaliação, e discute as implicações dos resultados para futuras pesquisas e aplicações práticas.\n",
        "\n",
        "**fim do exemplo**"
      ],
      "metadata": {
        "id": "UuAJzX_QEtCq"
      }
    },
    {
      "cell_type": "markdown",
      "source": [
        "\n",
        "A educação e a segurança pública são aspectos fundamentais, especialmente em cidades com desafios como Recife, Pernambuco. Nos últimos anos, a relação entre o nível de escolaridade e as taxas de violência tem sido amplamente discutida, com implicações diretas para a formulação de políticas públicas. Embora iniciativas educacionais tenham avançado, os altos índices de criminalidade continuam a impactar negativamente a qualidade de vida das comunidades. Compreender essa dinâmica é essencial para o desenvolvimento de estratégias que promovam tanto a melhoria da educação quanto a redução da violência de forma integrada e eficaz.\n",
        "\n",
        "Diversos estudos têm investigado a relação entre educação e segurança, destacando, por exemplo, que áreas com maior investimento em educação tendem a apresentar índices menores de criminalidade (Silva et al., 2020; Oliveira, 2019) Entretanto, muitas dessas análises não consideram as especificidades regionais e as variações nas condições socioeconômicas que afetam tanto a educação quanto a segurança. Identificamos, portanto, uma lacuna significativa: a necessidade de um estudo que explore de forma abrangente como as desigualdades educacionais em Recife se correlacionam com a violência em suas diferentes zonas.\n",
        "\n",
        "O objetivo deste artigo é analisar a relação entre os níveis educacionais e as taxas de violência nas diferentes áreas do Recife. O objetivo é investigar a situação educacional da cidade em comparação com o restante do Brasil, bem como identificar quais regiões apresentam os melhores e piores índices de educação e segurança. Além disso, o estudo examinará a evolução dos investimentos em educação ao longo dos anos e sua possível influência nas taxas de criminalidade.\n",
        "\n",
        "Dito isso, este artigo busca oferecer uma nova perspectiva ao combinar uma análise detalhada das desigualdades regionais de Recife com uma comparação contextualizada entre estados vizinhos e outras regiões de Pernambuco, como a Zona da Mata, o Agreste e o Sertão. O que diferencia este estudo é a utilização de diversas bases de dados reais e confiáveis, permitindo uma análise fundamentada que vai além de uma abordagem meramente histórica. Essa metodologia proporcionará uma compreensão mais profunda das interações entre educação e segurança, além de fornecer insights práticos para o desenvolvimento de políticas públicas mais eficazes e integradas. As seções seguintes do artigo detalharão a metodologia utilizada, os resultados obtidos e as implicações dessas descobertas para futuras investigações e ações no campo da educação e segurança pública."
      ],
      "metadata": {
        "id": "LiXedq55z1BI"
      }
    },
    {
      "cell_type": "markdown",
      "source": [
        "\n",
        "## **4. Trabalhos Relacionados (Outros artigos)**\n",
        "A seção de \"Trabalhos Relacionados\" em um artigo científico tem o objetivo de situar a pesquisa dentro do contexto do que já foi feito na área. Isso ajuda a demonstrar a originalidade do seu trabalho, ao mesmo tempo que reconhece as contribuições de outros pesquisadores.\n",
        "\n",
        "**Apresentar no minimo 15 artigos**\n"
      ],
      "metadata": {
        "id": "Omk_DWI3zht5"
      }
    },
    {
      "cell_type": "markdown",
      "source": [
        "### **Principais Pontos de Trabalhos Relacionados:**\n"
      ],
      "metadata": {
        "id": "45BJoFnTac2W"
      }
    },
    {
      "cell_type": "markdown",
      "source": [
        "\n",
        "**Revisão da Literatura:**\n",
        "   - **Identifique os principais estudos:** Escolha pesquisas relevantes que abordam tópicos semelhantes ou relacionados ao seu.\n",
        "   - **Resuma as contribuições:** Descreva brevemente o que cada estudo fez, focando em suas metodologias, resultados, e conclusões principais.\n",
        "\n",
        "**Comparação com o Seu Trabalho:**\n",
        "   - **Destaque as semelhanças e diferenças:** Compare os métodos, dados, e abordagens desses estudos com os do seu trabalho.\n",
        "   - **Identifique lacunas:** Aponte onde os estudos anteriores deixaram questões em aberto ou onde há oportunidades para novos insights.\n",
        "\n",
        "**Justificativa para o Seu Estudo:**\n",
        "   - **Explique a relevância do seu trabalho:** Argumente como sua pesquisa aborda uma lacuna identificada ou contribui de forma única para o campo.\n",
        "   - **Enfatize a originalidade:** Mostre como seu trabalho difere dos anteriores e por que ele é uma adição valiosa à literatura existente."
      ],
      "metadata": {
        "id": "vlc2gOjUalUy"
      }
    },
    {
      "cell_type": "markdown",
      "source": [
        "### **Pesquisar artigos relacionados**"
      ],
      "metadata": {
        "id": "60Rpxt9jhwmi"
      }
    },
    {
      "cell_type": "markdown",
      "source": [
        "Pesquisar artigos relacionados à sua pesquisa é uma etapa crucial no desenvolvimento de qualquer trabalho acadêmico, pois ajuda a compreender o estado da arte, identificar lacunas no conhecimento e fundamentar sua pesquisa. Aqui estão os procedimentos recomendados para realizar uma pesquisa bibliográfica eficaz:\n",
        "\n",
        "**Defina os Termos de Pesquisa**\n",
        "   - **Palavras-chave:** Identifique as palavras-chave e termos específicos que representam o tema central da sua pesquisa.\n",
        "   - **Sinônimos e Variações:** Considere sinônimos, abreviações e termos relacionados para ampliar sua busca.\n",
        "\n",
        "**Escolha as Bases de Dados e Ferramentas de Pesquisa**\n",
        "\n",
        "\n",
        "---\n",
        "***Atenção***\n",
        "- **Dentro da area de cobertura da rede da UNICAP** você terá acesso as bases de dados SEM RESTRIÇÃO\n",
        "\n",
        "- **Fora da area de cobertura**: Acesso remoto atraves da plataforma `Capes Cafe` instruções abaixo\n",
        "---\n",
        "\n",
        "\n",
        "\n",
        "\n",
        "   - **Bases de Dados Acadêmicas:** Utilize bases de dados renomadas como:\n",
        "     - **Scopus** Principal!!\n",
        "     - **[Google Scholar](\"https://scholar.google.com/\"):** Uma das ferramentas mais amplas para pesquisa de artigos científicos.\n",
        "     - **PubMed:** Focada em artigos de biomedicina e saúde.\n",
        "     - **IEEE Xplore:** Excelente para artigos de engenharia e tecnologia.\n",
        "     - **Scopus:** Uma base de dados multidisciplinar que abrange uma vasta gama de campos acadêmicos.\n",
        "     - **Web of Science:** Outra base de dados multidisciplinar que inclui ciências, ciências sociais, e humanidades.\n",
        "   - **Repositórios Institucionais:** Verifique também repositórios de universidades, como arXiv, que é popular em áreas como física, matemática e ciência da computação.\n",
        "\n",
        "**Realize a Busca Inicial**\n",
        "   - **Utilize Operadores Booleanos:** Use operadores como `AND`, `OR`, `NOT` para combinar termos de pesquisa de forma eficaz.\n",
        "   - **Filtros:** Aplique filtros para limitar os resultados por data de publicação, tipo de artigo (revisão, estudo de caso, artigo original), e idioma.\n",
        "   - **Exploração de Referências:** Verifique as referências dos artigos relevantes que você encontrar para descobrir outras fontes importantes.\n",
        "\n",
        "**Avalie e Selecione os Artigos**\n",
        "   - **Título e Resumo:** Comece lendo os títulos e resumos para determinar se o artigo é relevante para sua pesquisa.\n",
        "   - **Introdução e Conclusão:** Leia as seções de introdução e conclusão para entender os objetivos e as principais descobertas do artigo.\n",
        "   - **Relevância e Contribuição:** Priorize artigos que oferecem contribuições significativas para seu tema de estudo ou que abordam diretamente sua questão de pesquisa.\n",
        "\n",
        "**Organização e Gestão das Referências**\n",
        "   - **Gerenciadores de Referências:** Utilize ferramentas como **Mendeley**, **Zotero** ou **EndNote** para organizar os artigos e facilitar a citação.\n",
        "   - **Anotações:** Faça anotações detalhadas sobre cada artigo, destacando os pontos mais importantes e como eles se relacionam com sua pesquisa.\n",
        "\n",
        "\n",
        "**Análise Crítica dos Artigos**\n",
        "   - **Qualidade Metodológica:** Avalie a qualidade metodológica dos artigos, verificando a validade das técnicas utilizadas e a robustez dos resultados.\n",
        "   - **Contextualização:** Considere como cada artigo se encaixa no contexto mais amplo de sua pesquisa, identificando se ele sustenta, complementa ou contradiz suas hipóteses.\n",
        "\n",
        "**Compilação e Escrita da Revisão**\n",
        "   - **Síntese:** Ao final, sintetize os artigos revisados em uma revisão de literatura coerente, destacando como eles contribuem para sua pesquisa e onde sua investigação se encaixa no campo."
      ],
      "metadata": {
        "id": "Z697iwYYht7l"
      }
    },
    {
      "cell_type": "markdown",
      "source": [
        "### **Acesso ao Portal CAPES**\n"
      ],
      "metadata": {
        "id": "lviOLNB-ppra"
      }
    },
    {
      "cell_type": "markdown",
      "source": [
        "\n",
        "A utilização do Portal CAPES e da plataforma CAFe na Universidade Católica de Pernambuco (UNICAP) pode ser muito útil para acessar recursos acadêmicos e científicos. A seguir, descrevo os passos básicos para acessar e utilizar esses recursos:\n",
        "\n",
        "   - **Visite o Portal CAPES:** Acesse o site [Portal CAPES](https://www-periodicos-capes-gov-br.ezl.periodicos.capes.gov.br) através do navegador.\n",
        "   - **Login:** No canto superior direito, você verá a opção de \"Acesso CAFe\" (Comunidade Acadêmica Federada). Clique nesta opção para fazer o login.\n",
        "   - **Selecione a Instituição:** Ao clicar em \"Acesso CAFe\", uma nova janela aparecerá. Selecione a \"Universidade Católica de Pernambuco (UNICAP)\" na lista de instituições e clique em \"Enviar\".\n",
        "\n",
        "**Autenticação via CAFe**\n",
        "   - **Credenciais de Acesso:** Após selecionar a UNICAP, você será redirecionado para a página de login da universidade. Insira suas credenciais de estudante ou professor da UNICAP (geralmente seu e-mail institucional e senha).\n",
        "   - **Acesso ao Conteúdo:** Uma vez autenticado, você será redirecionado de volta ao Portal CAPES, agora com acesso completo ao conteúdo disponível para a UNICAP.\n",
        "**Procurar a base de dados da Scopus**\n",
        "\n",
        "- click em \"Acervo\".\n",
        "- click em \"lista de bases e acervo\"\n",
        "- Na linha de busca digitar \"Scopus\"\n",
        "- \"Acessar\"\n",
        "... Pornto! agora vc poderá pesquisar por artigos relacionados a sua pesquisa!"
      ],
      "metadata": {
        "id": "aCc9-S1NtpXN"
      }
    },
    {
      "cell_type": "markdown",
      "source": [
        "### **Trabalhos relacionados**"
      ],
      "metadata": {
        "id": "wXgQrS82eb_S"
      }
    },
    {
      "cell_type": "markdown",
      "source": [
        "**-EXEMPLO-**<br/>\n",
        "O uso de aprendizado de máquina (ML) para detecção de anomalias em redes de computadores tem sido amplamente explorado na literatura. Zhang et al. (2021) investigaram o uso de redes neurais convolucionais (CNNs) para a detecção em tempo real de tráfego malicioso. Seu estudo demonstrou que as CNNs podem alcançar alta precisão na identificação de padrões anômalos, especialmente em dados de rede complexos e não estruturados. No entanto, a abordagem foi criticada pela alta demanda computacional, que pode limitar sua aplicabilidade em ambientes de rede de grande escala.\n",
        "\n",
        "Por outro lado, Gupta e Kumar (2020) aplicaram árvores de decisão para a classificação de tráfegos de rede, mostrando que esse método pode ser eficaz para identificar anomalias em cenários de segurança cibernética. Embora suas árvores de decisão tenham apresentado bons resultados em termos de precisão e interpretabilidade, o estudo destacou limitações quanto à capacidade de generalização do modelo quando aplicado a dados novos ou não vistos anteriormente.\n",
        "\n",
        "Outro trabalho relevante é o de Silva et al. (2019), que utilizaram Support Vector Machines (SVM) para detectar anomalias em redes. O estudo demonstrou que o SVM pode ser muito eficaz em cenários onde os dados são bem distribuídos e linearmente separáveis. No entanto, a abordagem apresentou dificuldades em lidar com grandes volumes de dados, especialmente em situações onde a distinção entre tráfegos normais e anômalos não é clara.\n",
        "\n",
        "Embora esses estudos tenham contribuído significativamente para o campo, há uma lacuna na literatura em relação à comparação direta entre diferentes algoritmos de aprendizado de máquina aplicados ao mesmo conjunto de dados, o que limita a capacidade de generalizar os resultados para diferentes contextos. Este trabalho visa preencher essa lacuna, realizando uma análise comparativa entre Random Forest, SVM, e Redes Neurais Artificiais (ANN), utilizando o conjunto de dados KDD Cup 1999 como benchmark. Nossa abordagem não só avalia a precisão e a eficiência dos algoritmos, mas também examina sua escalabilidade e aplicabilidade em ambientes de rede reais.\n",
        "<br/>**-FIM_EXEMPLO-**"
      ],
      "metadata": {
        "id": "Hih3FHqFaOoW"
      }
    },
    {
      "cell_type": "markdown",
      "source": [
        "* **OLHAR AS CARACTERÍSTICAS SOCIAIS**\n",
        "\n",
        "Baseado no artigo de Douglas Cunha(2023), que analisa a segurança nas escolas municipais e a relação com a educação, é possivel destacar o uso de análises comparativas em relação as políticas de segurança utilizadas dentro de escolas em diversos países. O estudo examina como outras nações têm abordado a  questão da violência e as medidas implementadas para garantir a segurança dos alunos, oferecendo um panorama que busca inspirar e determinar ideias para ações no Brasil. No entanto as características culturais, sociais e econômicas do Brasil são mais complexas. Um olhar mais atento as experiencias locais podem gerar melhores ideias e soluções mais eficazes para a segurança nas escolas e no país.\n",
        "\n",
        "Outro trabalho feito por Marcus Vinícius Ortiz Querido(2017), trás uma nova perspectiva onde a relação entre segurança e educação se destaca. Embora a prevenção seja fundamental, é essencial reconhecer que a realidade brasileira exige soluções adaptadas ao contexto local. A implementação de políticas de segurança escolar deve considerar as especificidades culturais e sociais de cada região, como Pernambuco, para que sejam realmente eficazes. Além disso, a integração de métodos de aprendizado de máquinas pode oferecer insights valiosos sobre padrões de comportamento, permitindo uma abordagem mais informada e direcionada na formulação de políticas. Portanto, um olhar atento às experiências locais e a adoção de novas tecnologias podem aprimorar as iniciativas de segurança nas escolas, potencializando a prevenção da criminalidade.\n",
        "\n",
        "Por outro lado o estudo, conduzido por Evandro Camargos Teixeira(2011), realiza uma análise aprofundada do nível socioeconômico e racial da população, explorando como a criminalidade pode impactar os índices de evolução dos alunos nas escolas. Foi utilizado neste projeto a base de dados do Saresp, que abrange provas de matemática e português, permitindo uma análise detalhada dos estudantes. Foram elaborados gráficos de proporção e tabelas para verificar o desvio padrão, considerando variáveis como sexo, cor, ocupação e nível socioeconômico. Assim, o estudo adotou um modelo logit multinível, controlando as relações existentes entre o nível 1 (individual) e o nível 2 (escolar). Algo que poderia melhorar o projeto seria a inclusão de uma abordagem qualitativa, como entrevistas com alunos e professores, para enriquecer a análise e entender melhor os fatores subjetivos que influenciam o desempenho escolar.\n",
        "\n",
        "* **É NECESSÁRIO ABORDAGENS ROBUSTAS**\n",
        "\n",
        "O artigo \"Crimes Violentos Letais e Intencionais (CVLI)\" (SOUZA et al., 2021) apresenta fatores importantes que impactam a segurança no Brasil e em Pernambuco, utilizando dados da GACE e da Condepe/Fidem. No entanto, apesar dos gráficos pertinentes, a variedade limitada de fontes e dados não permite uma análise mais robusta e abrangente. Uma abordagem mais diversificada poderia fortalecer as conclusões, incluindo comparações regionais e métodos qualitativos. Complementando essa discussão, Santos e Silva (2023), em sua revisão sobre violências escolares, destacam a centralidade do bullying e da violência escolar como aspectos críticos para a segurança pública. Esse tipo de violência, segundo os autores, pode afetar diretamente os índices de criminalidade, especialmente em áreas urbanas como o Recife. A análise de redes sociais utilizada no estudo oferece uma perspectiva valiosa, embora o uso de mais dados quantitativos pudesse reforçar as conclusões.\n",
        "\n",
        "* **ANÁLIDES REAIS GERAM MAIS CREDIBILIDADE**\n",
        "\n",
        "Com uma abordagem diferente Maja K. Thomas (2015) utiliza uma metodologia baseada em um conjunto de dados de 1946 a 2014, abrangendo observações anuais de diversos países. A autora emprega modelos de regressão para investigar a relação entre a educação obrigatória e a incidência de conflitos armados internos. O estudo usa dados do Quality of Government Institute e do Uppsala Conflict Data Program, permitindo uma análise robusta sobre o impacto da educação em dinâmicas de conflito em 169 países. Os resultados mostram uma correlação negativa significativa entre a educação compulsória e os conflitos internos, com coeficiente de -0,217 e p-valor de 0,00. Verificações de robustez confirmam que a relação se mantém estável em diferentes especificações de modelos. Thomas conclui que o aumento da educação compulsória é essencial para a promoção da paz, destacando a educação como um fator central para reduzir guerras civis e promover estabilidade. Ela enfatiza a necessidade urgente de investimentos globais em educação, especialmente em países com populações subeducadas, que correm maior risco de instabilidade e violência.\n",
        "\n",
        "Com foco na natureza dedutiva, Eduarda Rodrigues (2020) analisa como a falta de investimentos em educação contribui para o aumento da criminalidade no Brasil. A pesquisa mostra que a ausência de formação adequada cria condições que favorecem o crime, enquanto políticas educacionais mais fortes podem transformar o futuro das crianças e da sociedade. Rodrigues conclui que o acesso à educação de qualidade é essencial para reduzir a violência e promover o equilíbrio social.\n",
        "\n",
        "* **EVIDÊNCIAS EMPÍRICAS E ANÁLISES DE IMPACTO**\n",
        "\n",
        "O estudo feito por Farias Guedes Pinheiro, F., & Silva , E. . J. C. da. (2022), em \"Relação da baixa escolaridade com a criminalidade\", tem como finalidade analisar a educação básica como forma de diminuir a criminalidade. O artigo mostra que a melhor forma de prevenir e combater a criminalidade é compreendendo como ela surge e se desenvolve. Nesse estudo é realizado uma pesquisa com a população na Comarca de Belém do São Francisco em Pernambuco, onde é feita a relação entre escolaridade e faixa etária dos indivíduos que cometem algum tipo de criminalidade, onde os dados analisados mostram que a grande maioria dos infratores (73,67%) não possui ao menos o primeiro grau completo. Com isso, conclui-se que a educação é fundamental na transformação social de uma pessoa, e que deve ser feito um maior investimento em educação.\n",
        "\n",
        "O artigo de Maria Souza e Evandro Teixeira, faz uma análise qualitativa e quantitativa, sobre a relação entre educação e criminalidade no estado de Minas Gerais, utilizando dados do Índice Mineiro de Responsabilidade Social. Os resultados apontam uma relação inversa entre qualidade de educação e criminalidade,  enquanto a variável quantitativa da educação e os crimes considerados não apresentam uma relação tão significativa, o que indica que melhorar índices qualitativos da educação irá gerar maiores resultados.\n",
        "\n",
        "* **ANÁLISES A LONGO PRAZO**\n",
        "\n",
        "Becker e Kassouf (2017), analisam a relação entre os gastos públicos em educação e a redução da criminalidade no Brasil, é possível destacar o uso de análises comparativas para avaliar a eficácia das políticas públicas de educação e segurança em diferentes contextos. Utilizaram um modelo de painel dinâmico (GMM-SYS) para avaliar se o investimento público em educação pode diminuir as taxas de homicídios no Brasil. Seus resultados mostraram uma elasticidade negativa de aproximadamente 0,1, indicando que um aumento de 10% nos gastos com educação resultaria em uma redução de 1% na taxa de homicídios no período seguinte. O estudo concluiu que, embora o impacto não seja imediato, investir em educação pode ser uma política pública de longo prazo eficaz para a redução da criminalidade.\n",
        "\n",
        " Carol Vieira Peloggia (2023), faz uma análise sobre a correlação entre educação, desemprego, pobreza e criminalidade no Brasil, é possível destacar o uso de análises comparativas para avaliar a relação entre fatores socioeconômicos e o aumento das taxas de crimes. O estudo faz uma análise aprofundada sobre como a falta de acesso à educação de qualidade, altas taxas de desemprego e pobreza têm impactos diretos nas taxas de criminalidade. Utilizando dados empíricos e revisões teóricas, Peloggia demonstra que a educação desempenha um papel crucial na formação de cidadãos mais conscientes e na redução de comportamentos criminosos.\n",
        "\n",
        "* **ESTRUTURA INADEQUADA NA EDUCAÇÃO E CONSEQUÊNCIAS NO BRASIL**\n",
        "\n",
        "Relacionando a educação com a prevenção da violência, o artigo de \"SANTOS, Décio Oliveira dos; SOUZA, José Clécio Silva de. Educação como prevenção à violência. Revista Educação Pública, v. 21, nº 22, 15 de junho de 2021\", aborda questões relacionadas a estruturação inadequada da educação e a desconsideração quanto aos tipos de violência ocasionada nos alunos que influencia no aumento da violência e escolaridade no Brasil como um todo, resaltando inadequações de acolhimento da equipe escolar e o apoio familiar, tendo suas diversificações em cada um, como principais causas para a evasão escolar e ingressando assim mais facilmente no mundo do crime.  Além disso, discute-se amplamente as raízes dessas problemáticas, buscando soluções que atendam às particularidades das unidades escolares. Assim, destaca-se que, sem uma educação adequada, a violência, tanto dentro quanto fora das escolas, dificilmente será amenizada.\n",
        "\n",
        "No artigo \"Inquietações na Gestão de Segurança Pública no Brasil\", analisa criticamente as principais questões relacionadas à segurança pública no país, a partir de uma abordagem teórica. Baseado em pesquisa bibliográfica, o estudo explora os desafios enfrentados tanto pela população quanto pelos gestores e policiais, destacando a crescente sensação de insegurança e as falhas nas políticas públicas de segurança. O texto ressalta a necessidade de uma gestão pública mais eficiente e integrada, que considere o planejamento estratégico, a coordenação entre órgãos públicos e a implementação de políticas de longo prazo. Enfatiza-se a importância de reformas substanciais no sistema de segurança pública para enfrentar o aumento da criminalidade e garantir a proteção dos direitos humanos.\n",
        "\n",
        "Por fim, com o foco em explanar a educação combinada com políticas públicas, Bruna Pires Martins (2021) mostra como essa união pode oferecer melhores oportunidades e promover a inclusão social, sendo essencial para prevenir a criminalidade e a violência desde a infância.\n",
        "\n",
        "* **METODOLOGIAS REAIS APLICADAS À REGIÃO METROPOLITANA DE RECIFE**\n",
        "\n",
        "A utilização de análises baseadas em trabalhos empíricos se mostra extremamente relevante para o tema em questão. O artigo de Lins e Duarte (2019), intitulado \"O impacto do capital humano sobre a remuneração: uma análise para a região metropolitana do Recife/PE\", apresenta uma metodologia que contribuiu significativamente para o desenvolvimento do nosso relatório. A partir da leitura, conseguimos obter uma visão mais clara sobre as etapas a serem realizadas no nosso estudo, além de nos sentirmos mais integrados à problemática investigada. Ademais, propomos uma diferenciação em nossa abordagem, segmentando a análise por zonas da cidade do Recife, o que permitirá alcançar resultados mais detalhados e significativos.\n",
        "\n",
        "**SÍNTESE**\n",
        "\n",
        "Nesses estudos, vimos que o aumento no investimento em educação contribui significativamente para a redução das taxas de criminalidade, porém, torna-se necessário reconhecer que os índices qualitativos da educação também podem gerar ótimos resultados. Embora o impacto não seja imediato, o investimento em educação pode ser uma política pública de longo prazo eficaz para a redução de criminalidade, porém, a literatura aponta para a necessidade de mais investigações que integrem a educação como um fator chave na redução da criminalidade, através de análises mais robustas utilizando dados massivos. Estes estudos contribuíram significativamente para o desenvolvimento da nossa metodologia, nos ajudando a correlacionar os índices educacionais e criminais em Pernambuco. Além disso, propomos uma diferenciação na nossa abordagem, segmentando a análise por zonas da cidade do Recife, o que permitirá obter resultados mais detalhados sobre como a educação impacta a criminalidade em diferentes regiões do estado."
      ],
      "metadata": {
        "id": "c2TUS_hg6HDq"
      }
    },
    {
      "cell_type": "markdown",
      "source": [
        "\n",
        "## **5. Metodologia**\n",
        "\n",
        "A seção de metodologia de um artigo científico detalha como a pesquisa foi conduzida, permitindo que outros pesquisadores possam replicar o estudo. No contexto de aprendizado de máquina, essa seção deve abordar aspectos como a descrição do conjunto de dados, o pré-processamento, a escolha dos algoritmos, a configuração dos experimentos e as métricas de avaliação.\n"
      ],
      "metadata": {
        "id": "MZTIlslkzjLi"
      }
    },
    {
      "cell_type": "markdown",
      "source": [
        "\n",
        "### **Principais Pontos de uma Metodologia**"
      ],
      "metadata": {
        "id": "Ff3LzFUgd3Kf"
      }
    },
    {
      "cell_type": "markdown",
      "source": [
        "1. **Conjunto de Dados:**\n",
        "   - **Descrição:** Detalhe o conjunto de dados utilizado, incluindo a origem, o tamanho, e as características principais.\n",
        "   - **Divisão dos Dados:** Explique como os dados foram divididos (treinamento, validação, teste).\n",
        "\n",
        "2. **Pré-processamento dos Dados:**\n",
        "   - **Limpeza de Dados:** Descreva as técnicas usadas para lidar com dados ausentes, valores atípicos, ou ruído.\n",
        "   - **Normalização/Padronização:** Explique se os dados foram normalizados ou padronizados e o motivo.\n",
        "   - **Codificação de Variáveis:** Se aplicável, descreva como variáveis categóricas foram tratadas (ex: one-hot encoding, label encoding).\n",
        "\n",
        "3. **Seleção de Algoritmos:**\n",
        "   - **Algoritmos Escolhidos:** Liste os algoritmos de aprendizado de máquina utilizados no estudo (ex: Random Forest, SVM, Redes Neurais).\n",
        "   - **Justificativa:** Explique por que esses algoritmos foram escolhidos para o problema em questão.\n",
        "\n",
        "4. **Configuração dos Experimentos:**\n",
        "   - **Parâmetros dos Modelos:** Especifique os parâmetros dos modelos e qualquer técnica de otimização usada (ex: grid search, cross-validation).\n",
        "   - **Treinamento:** Descreva o processo de treinamento dos modelos, incluindo o número de iterações, tamanho dos lotes, e taxa de aprendizado.\n",
        "   - **Validação e Teste:** Explique como os modelos foram validados e testados, incluindo a metodologia de validação cruzada, se aplicável.\n",
        "\n",
        "5. **Métricas de Avaliação:**\n",
        "   - **Métricas Utilizadas:** Defina as métricas usadas para avaliar o desempenho dos modelos (ex: acurácia, precisão, recall, F1-score, AUC-ROC).\n",
        "   - **Justificativa das Métricas:** Explique por que essas métricas foram escolhidas e como elas refletem a eficácia dos modelos.\n",
        "\n",
        "6. **Ferramentas e Bibliotecas:**\n",
        "   - **Tecnologias Utilizadas:** Cite as ferramentas, bibliotecas ou ambientes de programação utilizados para implementar e treinar os modelos (ex: Python, TensorFlow, Scikit-learn).\n"
      ],
      "metadata": {
        "id": "xXJPSREgdcQX"
      }
    },
    {
      "cell_type": "markdown",
      "source": [
        "### **Exemplo de Metodologia**"
      ],
      "metadata": {
        "id": "FJRWHJeYdmjd"
      }
    },
    {
      "cell_type": "markdown",
      "source": [
        "**1. Conjunto de Dados:**  \n",
        "Para este estudo, utilizamos o conjunto de dados *KDD Cup 1999*, um dos benchmarks mais utilizados na detecção de anomalias em redes de computadores. O conjunto de dados consiste em aproximadamente 4,9 milhões de registros, cada um com 41 características, divididas entre variáveis contínuas e categóricas. A classe alvo consiste em duas categorias: tráfego normal e anômalo. Os dados foram divididos em 70% para treinamento e 30% para teste.\n",
        "\n",
        "**2. Pré-processamento dos Dados:**  \n",
        "Inicialmente, os dados foram submetidos a uma limpeza para remover duplicatas e valores ausentes. As variáveis categóricas foram convertidas para numéricas utilizando *one-hot encoding*. Em seguida, as variáveis contínuas foram normalizadas para o intervalo [0, 1] para garantir que todas as características tivessem o mesmo peso no treinamento dos modelos.\n",
        "\n",
        "**3. Seleção de Algoritmos:**  \n",
        "Foram escolhidos três algoritmos de aprendizado de máquina para a detecção de anomalias: Random Forest, Support Vector Machines (SVM) e Redes Neurais Artificiais (ANN). O Random Forest foi selecionado por sua robustez e capacidade de lidar com grandes conjuntos de dados. O SVM foi escolhido pela sua eficácia em problemas de classificação, especialmente com dados de alta dimensionalidade. A ANN foi incluída devido à sua capacidade de capturar relações complexas entre as características.\n",
        "\n",
        "**4. Configuração dos Experimentos:**  \n",
        "Os parâmetros dos modelos foram otimizados usando *grid search* com validação cruzada de 5 vezes. Para o Random Forest, o número de árvores na floresta variou entre 50 e 200. Para o SVM, diferentes kernels (linear, RBF) foram testados. A ANN foi treinada com uma arquitetura de três camadas ocultas, utilizando *ReLU* como função de ativação e *Adam* como otimizador. Todos os modelos foram treinados em um ambiente Python, utilizando as bibliotecas Scikit-learn e TensorFlow.\n",
        "\n",
        "**5. Métricas de Avaliação:**  \n",
        "O desempenho dos modelos foi avaliado usando as seguintes métricas: acurácia, precisão, recall e F1-score. A precisão e recall foram escolhidas para avaliar o equilíbrio entre a detecção de anomalias e a minimização de falsos positivos, enquanto o F1-score proporcionou uma métrica balanceada, especialmente em um conjunto de dados desbalanceado."
      ],
      "metadata": {
        "id": "dF1O0KUSdgmT"
      }
    },
    {
      "cell_type": "markdown",
      "source": [
        "### **Metodologia**"
      ],
      "metadata": {
        "id": "MZpRnG_CnIGQ"
      }
    },
    {
      "cell_type": "markdown",
      "source": [
        "**1. Conjunto de Dados:**  \n",
        "Conjunto de Dados: Para este estudo, utilizamos um conjunto diversificado de dados sobre educação e segurança pública em Pernambuco e outros estados brasileiros, com foco em indicadores de qualidade educacional e índices de criminalidade. Os principais conjuntos de dados utilizados foram:\n",
        "\n",
        "Educação:\n",
        "Microdados do Censo Escolar, contêm informações detalhadas sobre as escolas, matrículas e docentes. O conjunto de dados foi extraído do portal do INEP.\n",
        "Índice de Desenvolvimento da Educação Básica (IDEB), que mede a qualidade do ensino fundamental e médio por municípios e estados, extraído do IBGE.\n",
        "\n",
        "Segurança:\n",
        "Microdados sobre Crimes Violentos Letais Intencionais (CVLI), microdados sobre Crimes Contra o Patrimônio (CVP) e microdados sobre Violência Doméstica e Familiar Contra a Mulher (VDFCM) extraídos da SDS de Pernambuco. Esses dados fornecem detalhes sobre ocorrências criminais por região e tipo de crime.\n",
        "\n",
        "**2. Pré-processamento dos Dados:**  \n",
        "\n",
        "Limpeza de dados: Foram removidos registros com valores ausentes ou inválidos, como dados incompletos sobre escolas ou ocorrências criminais. Além disso, registros duplicados foram eliminados para evitar redundâncias.\n",
        "\n",
        "Alongamento dos Conjuntos: Os conjuntos de dados relacionados à educação, como o IDEB e o Censo Escolar, foram transformados por meio de um processo de alongamento. Esse procedimento reorganizou as colunas de anos em uma única coluna chamada \"Ano\", cujos valores representam os respectivos períodos (como 2005, 2007, 2009, e assim por diante). Essa estruturação permite uma melhor integração com outros conjuntos temporais e facilita análises e visualizações temporais consistentes\n",
        "\n",
        "Posteriormente, as bases de dados de educação e segurança foram integradas com base na localização geográfica (municípios).\n",
        "\n",
        "Padronização: As variáveis contínuas, como índices IDEB e taxas de criminalidade, foram padronizadas para que apresentassem média igual a zero e desvio padrão igual a um. Essa abordagem garante que todas as características tenham escalas comparáveis, eliminando a influência de unidades de medida diferentes durante o treinamento dos modelos de machine learning.\n",
        "\n",
        "Além disso, a variável categórica correspondente aos municípios foi transformada utilizando label encoding, atribuindo um valor numérico único para cada município. Esse processo facilita a inclusão dessas informações nos modelos, que geralmente requerem dados numéricos como entrada, preservando a distinção entre as diferentes categorias.\n",
        "\n",
        "\n",
        "**3. Seleção de Algoritmos:**  \n",
        "Para analisar a relação entre educação e segurança, optamos por cinco algoritmos de aprendizado de máquina: Regressão Linear Múltipla, Random Forest, Árvore de Decisão, Regressão Logística, e K-Nearest Neighbors (KNN). A Regressão Linear Múltipla foi escolhida por sua capacidade de modelar a influência direta de diferentes variáveis educacionais sobre os índices de criminalidade, permitindo uma interpretação clara dos resultados. O Random Forest e a Árvore de Decisão foram selecionados por sua habilidade em lidar com grandes volumes de dados e complexidades, além de oferecerem uma visão aprofundada sobre quais variáveis são mais relevantes para as previsões. A Regressão Logística foi incluída para explorar uma abordagem baseada em classificação, útil para categorizar os dados em cenários binários ou multiclasses. Por fim, o KNN foi utilizado para verificar como as observações mais próximas entre si se comportam em termos de segurança e educação, proporcionando uma abordagem baseada na proximidade para identificar padrões locais. Essa combinação de algoritmos possibilita uma análise robusta e detalhada dos dados, contribuindo para uma compreensão mais profunda das dinâmicas entre educação e segurança.  \n",
        "\n",
        "**4. Configuração dos Experimentos:**  \n",
        "A otimização dos parâmetros dos modelos foi realizada por meio de Grid Search. Para a Regressão Linear Múltipla, foi considerado apenas um conjunto de variáveis independentes. No Random Forest, testamos um número de árvores variando de 10 a 1000, ajustando também a profundidade máxima para evitar overfitting. Para a Árvore de Decisão, ajustamos a profundidade máxima da árvore e o critério de divisão para melhorar a capacidade preditiva e evitar overfitting. Na Regressão Logística, diferentes métodos de regularização, como L1 e L2, foram testados para otimizar a performance. Para o KNN, ajustamos o número de vizinhos de 1 a 20, buscando o valor que oferecesse melhor desempenho em termos de precisão. Esse processo de otimização garantiu que cada algoritmo estivesse devidamente ajustado para fornecer os melhores resultados.\n",
        "\n",
        "**5. Métricas de Avaliação:**  \n",
        "Foram escolhidas métricas específicas para cada abordagem. Para a Regressão Linear Múltipla e Regressão Logística, utilizamos o erro médio absoluto (MAE), o erro quadrático médio (MSE), e o coeficiente de determinação (R²) para medir a precisão das previsões e a proporção da variância explicada. No caso do Random Forest e da Árvore de Decisão, além do MAE e MSE, calculamos a importância das variáveis, o que nos permitiu entender quais fatores educacionais têm maior impacto nos índices de criminalidade. Para o KNN, as métricas utilizadas foram MAE, MSE e R², ajudando a medir a precisão das previsões baseadas na proximidade das observações. Essas métricas proporcionam uma análise abrangente do desempenho dos modelos e contribuem para uma compreensão mais clara das relações entre educação e segurança.\n",
        "\n",
        "**6. Ferramentas e Bibliotecas:**   \n",
        "A linguagem de programação Python foi utilizada em todas as etapas da pesquisa, juntamente com as bibliotecas Pandas e NumPy, especialmente para a análise exploratória e a limpeza dos dados. Para a modelagem e desenvolvimento dos algoritmos de machine learning, foram utilizadas principalmente as bibliotecas TensorFlow e Scikit-learn. A visualização dos dados e a criação de gráficos foram realizadas por meio das bibliotecas Matplotlib e Seaborn."
      ],
      "metadata": {
        "id": "Vft2TevHLcOx"
      }
    },
    {
      "cell_type": "markdown",
      "source": [
        "\n",
        "## **6. Experimentos e Resultados**\n",
        "\n",
        "Na seção de \"Experimentos e Resultados\" de um artigo científico, especialmente em estudos sobre aprendizado de máquina, é fundamental apresentar os métodos experimentais, os dados utilizados, as métricas de avaliação e os resultados obtidos de forma clara e detalhada."
      ],
      "metadata": {
        "id": "8TdI8YH7zkzm"
      }
    },
    {
      "cell_type": "markdown",
      "source": [
        "### **Principais Pontos para \"Experimentos e Resultados\"**\n"
      ],
      "metadata": {
        "id": "BwAHiC3pgO13"
      }
    },
    {
      "cell_type": "markdown",
      "source": [
        "1. **Descrição dos Dados:**\n",
        "   - **Conjunto de Dados:** Descreva os dados usados nos experimentos, incluindo a origem, o tamanho, as características, e o pré-processamento aplicado.\n",
        "   - **Divisão dos Dados:** Explique como os dados foram divididos em conjuntos de treino, validação e teste (por exemplo, 70/30 ou 80/20).\n",
        "\n",
        "2. **Configuração dos Experimentos:**\n",
        "   - **Algoritmos Utilizados:** Liste os algoritmos de aprendizado de máquina testados, juntamente com as configurações específicas (parâmetros) de cada um.\n",
        "   - **Ambiente de Execução:** Descreva o ambiente de execução dos experimentos (software, hardware, bibliotecas de ML).\n",
        "   - **Validação Cruzada:** Se aplicável, descreva o método de validação cruzada utilizado para avaliar o desempenho do modelo.\n",
        "\n",
        "3. **Métricas de Avaliação:**\n",
        "   - **Escolha de Métricas:** Indique as métricas usadas para avaliar os modelos, como precisão, recall, F1-score, AUC-ROC, etc.\n",
        "   - **Justificativa:** Explique por que essas métricas foram escolhidas, dependendo da natureza do problema (por exemplo, um problema desbalanceado pode precisar de mais foco em recall ou F1-score).\n",
        "\n",
        "4. **Resultados Obtidos:**\n",
        "   - **Tabela de Resultados:** Apresente os resultados dos experimentos em tabelas, comparando o desempenho dos diferentes modelos.\n",
        "   - **Análise dos Resultados:** Discuta os resultados obtidos, destacando quais modelos performaram melhor e por quê.\n",
        "   - **Comparações:** Compare os resultados com estudos anteriores ou benchmarks existentes, se aplicável.\n",
        "\n",
        "5. **Visualizações:**\n",
        "   - **Gráficos:** Inclua gráficos (por exemplo, curvas ROC, matrizes de confusão) para ilustrar os resultados de forma visual.\n",
        "   - **Análise Visual:** Comente sobre os insights que podem ser obtidos a partir dessas visualizações.\n"
      ],
      "metadata": {
        "id": "h6usQPYegYrg"
      }
    },
    {
      "cell_type": "markdown",
      "source": [
        "### **Exemplo de Seção \"Experimentos e Resultados\": Aprendizado de Máquina**"
      ],
      "metadata": {
        "id": "UsHLToVsgp8m"
      }
    },
    {
      "cell_type": "markdown",
      "source": [
        "\n",
        "#### **Conjunto de Dados**\n",
        "\n",
        "Para conduzir os experimentos, utilizamos o conjunto de dados KDD Cup 1999, um dos benchmarks mais amplamente utilizados para a detecção de intrusões em redes de computadores. Este conjunto de dados contém aproximadamente 4.9 milhões de registros, cada um descrito por 41 atributos que caracterizam o tráfego de rede. Os dados foram pré-processados para remover registros duplicados e normalizar as características numéricas, garantindo a consistência na avaliação dos algoritmos.\n",
        "\n",
        "Os dados foram divididos em 70% para treinamento e 30% para teste. Para garantir a robustez dos resultados, aplicamos uma validação cruzada k-fold (k=10) durante o treinamento dos modelos.\n",
        "\n",
        "#### **Configuração dos Experimentos**\n",
        "\n",
        "Três algoritmos de aprendizado de máquina foram implementados: Random Forest, Support Vector Machines (SVM), e Redes Neurais Artificiais (ANN). Para o Random Forest, utilizamos 100 árvores de decisão; o SVM foi treinado com um kernel radial básico (RBF); e a ANN consistia de uma arquitetura simples com três camadas ocultas de 128, 64 e 32 neurônios, respectivamente.\n",
        "\n",
        "Os experimentos foram conduzidos em um ambiente Python, utilizando as bibliotecas Scikit-learn e TensorFlow para a implementação dos modelos. A execução dos experimentos foi realizada em uma máquina com CPU Intel Core i7 e 16 GB de RAM.\n",
        "\n",
        "#### **Métricas de Avaliação**\n",
        "\n",
        "As principais métricas utilizadas para avaliar o desempenho dos modelos foram precisão, recall, F1-score e a área sob a curva ROC (AUC-ROC). Optamos por essas métricas devido à natureza desbalanceada do problema, onde a detecção de ataques é mais crítica que a mera classificação correta dos registros.\n",
        "\n",
        "#### **Resultados**\n",
        "\n",
        "A Tabela 1 resume os resultados obtidos para cada modelo:\n",
        "\n",
        "| Modelo          | Precisão (%) | Recall (%) | F1-Score (%) | AUC-ROC |\n",
        "|-----------------|--------------|------------|--------------|---------|\n",
        "| Random Forest   | 95.3         | 94.8       | 95.0         | 0.98    |\n",
        "| SVM             | 92.5         | 91.2       | 91.8         | 0.96    |\n",
        "| Redes Neurais   | 90.7         | 89.3       | 89.9         | 0.95    |\n",
        "\n",
        "Os resultados mostram que o Random Forest superou os outros modelos em todas as métricas avaliadas, especialmente em termos de precisão e F1-score, sugerindo uma maior capacidade de identificar corretamente as intrusões, enquanto minimiza os falsos positivos. O SVM apresentou um desempenho sólido, mas ficou atrás do Random Forest em termos de recall, o que indica que perdeu mais instâncias de intrusões. As Redes Neurais, embora eficazes, não alcançaram a mesma precisão dos outros modelos, possivelmente devido à simplicidade da arquitetura utilizada.\n",
        "\n",
        "#### **Visualizações - Podem ser dispostas no lugar que sejam necessarias para melhorar a explanação**\n",
        "\n",
        "A Figura 1 apresenta as curvas ROC para cada um dos modelos testados, o que evidencia ainda mais a superioridade do Random Forest em termos de classificação geral, com uma AUC-ROC de 0.98.\n",
        "\n",
        "*Inserir Figura 1: Curvas ROC para Random Forest, SVM, e Redes Neurais*\n",
        "\n",
        "Esses resultados indicam que o Random Forest é a abordagem mais eficaz para detecção de anomalias neste contexto, sugerindo que seu uso em sistemas de segurança de rede pode melhorar significativamente a identificação de atividades maliciosas.\n",
        "\n",
        "---\n",
        "\n",
        "Essa seção \"Experimentos e Resultados\" proporciona uma visão clara e detalhada do processo experimental e das conclusões extraídas dos dados. A inclusão de tabelas, gráficos e uma análise bem fundamentada dos resultados é crucial para convencer o leitor da validade e importância do trabalho realizado."
      ],
      "metadata": {
        "id": "NpMr8lktgoYq"
      }
    },
    {
      "cell_type": "markdown",
      "source": [
        "## *--- Escreva aqui o seu---*\n",
        "\n",
        "### **Conjuntos de dados:**\n",
        "1. Base de dados IBGE Censo Escolar:\n",
        "Para realizar os experimentos, utilizamos um conjunto de dados educacionais, do municipio de Recife composto por informações detalhadas sobre matrículas, docentes e escolas em níveis de ensino infantil, fundamental e médio. Esse conjunto contém aproximadamente 285 mil registros de matrículas, organizados por série e tipo de instituição (municipal, estadual, federal e privado). Os dados incluem ainda informações sobre 14.662 docentes e 1.995 escolas.\n",
        "Utilizamos no processamento a análise univariada afim de entender suas características,além de sua distribuição, tendência central e dispersão.\n",
        "O pré-processamento dos dados foi realizado para remover inconsistências, como registros duplicados, e para normalizar características categóricas e numéricas, garantindo que os dados estivessem limpos e prontos para a análise dos algoritmos. Além disso, os dados foram categorizados por tipo de escola e fase de ensino para facilitar a modelagem.   \n",
        "\n",
        "2. Base de dados Dados Nacionais de Segurança Pública - UF:\n",
        "Para realizar os experimentos, utilizariamos o conjunto de dados sobre indicadores de segurança pública por Unidade da Federação, as informações contidas neles é apresentada pelo SINESP, onde pode se visualizar até 9 tipos de crimes (ex.: estupro, furto de veículo, homicídio doloso) e seus números de ocorrências mensais entre os anos de 2022 à 2015 apresentados por estado porém inicialmente limitamos apenas ao estado de Pernambuco, a base de dados vem no formato (XLSX).\n",
        "*OBS*: O conjunto de dados UF não foi mais utilizado por não fornecer Insights valiosos. A princípio, a ideia era conectar o tipo de crime com a segurança,mas percebemos que estariamos limitados com ano, por ser até 2022, e não tem informações sobre os gêneros das vítimas.\n",
        "\n",
        "3. Base de Dados do Índice de Desenvolvimento da Educação Básica (IDEB) – Recife:\n",
        "Para realizar os experimentos, utilizamos um conjunto de dados educacionais extraídos do Índice de Desenvolvimento da Educação Básica (IDEB), focado no desempenho das instituições públicas de ensino fundamental e médio da cidade de Recife. Os dados estão organizados por etapas de ensino (anos iniciais e finais do ensino fundamental, e ensino médio) e por tipo de instituição (municipal, estadual e federal).\n",
        "Nos anos iniciais do ensino fundamental em Recife, as escolas públicas apresentaram uma média de 5,3, com destaque para as estaduais, que atingiram 6,3. Nos anos finais, a média geral das escolas públicas foi de 5,0, com as estaduais obtendo 4,9 e as federais apresentando um desempenho superior, com 7,4. No ensino médio, a média das escolas públicas foi de 4,4, sendo as escolas estaduais responsáveis por uma média de 4,6.\n",
        "Para o processamento dos dados, realizamos uma análise univariada a fim de compreender suas características, distribuição, tendência central e dispersão, considerando os diferentes níveis e tipos de instituições educacionais da cidade de Recife.  \n",
        "\n",
        "4. Microdados de Crimes Violentos Letais Intencionais (CVLI) em Pernambuco:\n",
        "O conjunto de dados conta com 77322 ocorrências registradas, dentre elas: homicídio doloso, latrocínio, feminicídio, lesão corporal seguida de morte e outros crimes resultantes em mortes, excetuando-se os casos de morte por intervenção de agente do estado. Essas ocorrências contém também dados como: município, região geográfica, sexo, natureza jurídica, data, ano, idade da vítima e total de vítimas. Durante o pré-processamento foi feita a limpeza, removendo valores nulos e valores duplicados, logo após também foi feita a normalização e padronização dos dados como forma de preparação para a etapa de modelagem.\n",
        "\n",
        "5. Microdados de Crimes Contra o Patrimônio (CVP) em Pernambuco:\n",
        "Com 158176 registros de CVP, ou seja, os crimes classificados como roubo, extorsão mediante sequestro e roubo com restrição da liberdade da vítima, exceto o roubo seguido de morte (latrocínio) que já é contabilizado no indicador de Crimes Violentos Letais e Intencionais (CVLI). Para cada registro também: data, ano, município, região geográfica e total. Durante o pré-processamento foi feita a limpeza, removendo valores nulos e valores duplicados, logo após também foi feita a normalização e padronização dos dados como forma de preparação para a etapa de modelagem.\n",
        "\n",
        "6. Microdados de Violência Doméstica e Familiar Contra a Mulher (VDFCM) em Pernambuco:\n",
        "Sobre os conjuntos de dados com indicadores de segurança, esse é o que contém o maior número de ocorrência com cerca de 345684 registradas, cada ocorrência conta com: município, região geográfica, natureza, data, ano, sexo, idade senasp e total de envolvidos. Caracteriza-se por VDFCM casos de: ameaça por violência doméstica/familiar; calúnia por violência doméstica/familiar; constrangimento ilegal por violência doméstica/familiar; dano por violência doméstica/familiar; difamação por violência doméstica/familiar; estupro de vulnerável por violência doméstica/familiar; estupro por violência doméstica/familiar; homicídio por violência doméstica/familiar; injúria por violência doméstica/familiar; lesão corporal por violência doméstica/familiar; maus tratos por violência doméstica/familiar; perturbação do sossego por violência doméstica/familiar; vias de fato por violência doméstica/familiar e outros crimes por violência doméstica/familiar. Durante o pré-processamento foi feita a limpeza, removendo valores nulos e valores duplicados, logo após também foi feita a normalização e padronização dos dados como forma de preparação para a etapa de modelagem.   \n",
        "\n",
        "\n",
        "\n",
        "Após o pré-processamento individual de cada um dos cojuntos de dados, foi feito um grande merge unindo todos em um único dataset. A principio foi realizada a união entre os conjuntos de segurança de Crimes Violentos Letais Intencionais (CVLI), Crimes Contra o Patrimônio (CVP) e Violência Doméstica e Familiar Contra a Mulher (VDFCM), notou-se que não haveria uma forma de encaixar nenhuma das variáveis de indicadores de segurança por UF nesse dataset final, portanto ele ficou de fora. Em seguida foi feito o merge com o conjunto do Censo Escolar e também do IDEB, todo o processo utilizou do inner merge.\n",
        "\n",
        "\n",
        "\n",
        "### **Divisão de dados:**\n",
        "A divisão dos dados foi de 80/20, onde 80% dos dados foram destinados para a etapa de treinamento dos modelos, enquanto os outros 20% foram reservados para teste, afim de verificar o desempenho do modelo.\n",
        "\n",
        "\n",
        "\n",
        "### **Configuração dos Experimentos:**\n",
        "Foram selecionados cinco diferentes algoritmos: Random Forest, Árvore de Decisão, Regressão Logística, Regressão Linear Múltipla, K-Nearest Neighbor (KNN).  \n",
        "O Random Forest foi configurado com uma profundidade máxima de 10 e um número de 100 árvores permitindo um modelo mais robusto, com menor variância. Foi feito o uso do Grid Search para identificar os melhores hiperparâmetros. Também foi usado o Grid Search para a Árvore de Decisão, ela foi ajustada para ter uma profundidade máxima de 10.  \n",
        "A Regressão Logística também fez a utilização do Grid Search, foi configurada para classificação binária e usado da binarização dos rótulos com um limite de 0,5.   \n",
        "A Regressão Linear utilizou uma combinação linear das variáveis preditoras para prever o valor do alvo contínuo. Sem restrições específicas.\n",
        "Por fim, o K-Nearest Neighbors (KNN) testou valores entre 1 a 20 para K, permitindo observar o impacto de diferentes números de vizinhos no erro de previsão (MSE).  \n",
        "\n",
        "Tanto o treinamento quando o teste foram realizados utilizando a linguagem de programação python 3 juntamente com as bibliotecas TensorFlow e Scikit-learn. A execução dos experimentos foi feita no ambiente de cloud, utilizando o google colab no plano gratuito com o acelerador de hardware T4 GPU. O ambiente conta com 12.7 GB de RAM, 15 GB de RAM da GPU e um disco com 112.6 GB de armazenamento.\n",
        "\n",
        "\n",
        "\n",
        "### **Métricas de Avaliação:**\n",
        "As principais métricas de avaliação utilizadas foram o Mean Squared Error (MSE), o Mean Absolue Error (MAE) e o coeficiente de determinação (R²). Essas foram as métricas selecionadas justamente por serem as mais indicadas para fazer a avaliação de modelos de Regressão.  \n",
        "\n",
        "\n",
        "\n",
        "### **Resultados obtidos**\n",
        "\n",
        "A tabela mostra os resultados obtidos da avaliação de cada modelo:\n",
        "\n",
        "| Modelo          | MSE | MAE | R²\n",
        "|-----------------|--------------|------------|--------------|\n",
        "| Random Forest               | 0.022         | 0.107       | 0.982         |\n",
        "| Árvore de Decisão           | 0.021         | 0.098       | 0.982         |\n",
        "| Regressão Logística         | 0.853         | 0.474       | 0.307         |\n",
        "| Regressão Linear Múltipla   | 0.022         | 0.107       | 0.982         |\n",
        "| K-Nearest Neighbor (KNN)    | 0.031         | 0.117       | 0.974         |\n",
        "\n",
        "Os resultados mostram que o modelo de Regressão Linear Múltipla, Random Forest e Árvore de Decisão tiveram o melhor desempenho entre os modelos testados, alcançando os menores valores de MSE e MAE, além de uma alta precisão representada pelo R². O Random Forest e a Regressão Linear Múltipla também tiveram uma performance sólida, porém com erros ligeiramente superiores em comparação com a Árvore de Decisão. O KNN, embora tenha apresentado um bom desempenho geral, obteve valores de erro um pouco maiores, indicando uma menor capacidade de generalização. Por outro lado, a Regressão Logística ficou significativamente atrás, com um R² de apenas 0,313, indicando que não conseguiu capturar bem as relações nos dados para essa tarefa específica de regressão.\n",
        "\n",
        "\n",
        "\n",
        "### **Visualização**\n",
        "A Figura 1 mostra um heatmap comparativo das principais métricas de avaliação (MSE, MAE e R²) entre os cinco modelos de aprendizado de máquina testados.   \n",
        "\n",
        "![Descrição da Imagem](https://drive.google.com/uc?export=view&id=1vV9Xh5sBEEtMRZ4rahjdvtYdAKxuwNCH)   \n",
        "    \n",
        "A análise destaca a superioridade da Árvore de Decisão, apresentando valores menores de MSE e MAE, 0.021 e 0.098, respectivamente, indicando melhor performance preditiva. Em termos de R², esse modelo teve o valor de 0.982 (obtido também na Random Forest e na Regressão Linear Múltipla). A Regressão Logística, por outro lado, teve o pior desempenho em todas as métricas, com MSE (0.8462) e MAE (0.4672) significativamente mais altos, e um R² de apenas 0.3132. Esses resultados sugerem que, para este conjunto de dados, a Árvore de decisão é o modelo mais adequado.\n"
      ],
      "metadata": {
        "id": "5SVjSnNrz3Db"
      }
    },
    {
      "cell_type": "markdown",
      "source": [
        "\n",
        "## **7. Discussão**\n",
        "A seção de \"Discussão\" em um artigo científico é onde você interpreta os resultados apresentados, relaciona-os com a literatura existente e explora as implicações teóricas e práticas do estudo. Aqui, você deve também reconhecer as limitações do trabalho e sugerir direções para pesquisas futuras.\n"
      ],
      "metadata": {
        "id": "wqp1xHVczmYu"
      }
    },
    {
      "cell_type": "markdown",
      "source": [
        "\n",
        "### **Principais Pontos para a \"Discussão\":**"
      ],
      "metadata": {
        "id": "K3yT7fVGvxrI"
      }
    },
    {
      "cell_type": "markdown",
      "source": [
        "\n",
        "\n",
        "1. **Interpretação dos Resultados:**\n",
        "   - **Explicação dos Resultados:** Explique o que os resultados significam em relação ao objetivo do estudo. Por que certos modelos performaram melhor que outros?\n",
        "   - **Comparação com a Literatura:** Compare os resultados com estudos anteriores. Seus achados corroboram ou contradizem pesquisas existentes? Se houver discrepâncias, discuta possíveis razões.\n",
        "\n",
        "2. **Implicações Práticas e Teóricas:**\n",
        "   - **Aplicações Práticas:** Discuta como os resultados podem ser aplicados em cenários reais. Por exemplo, como o modelo pode ser utilizado em sistemas de segurança?\n",
        "   - **Contribuição para a Teoria:** Considere como seus resultados contribuem para o avanço do conhecimento na área de aprendizado de máquina ou na aplicação específica estudada.\n",
        "\n",
        "3. **Limitações do Estudo:**\n",
        "   - **Reconhecimento de Limitações:** Identifique quaisquer limitações que possam ter impactado os resultados, como a qualidade dos dados, a simplicidade dos modelos, ou a capacidade computacional.\n",
        "   - **Impacto das Limitações:** Discuta como essas limitações podem influenciar a generalização dos resultados e a sua aplicabilidade.\n",
        "\n",
        "4. **Sugestões para Trabalhos Futuros:**\n",
        "   - **Direções de Pesquisa:** Sugira como o estudo pode ser expandido. Quais melhorias podem ser feitas nos modelos ou nos métodos de avaliação?\n",
        "   - **Novas Perguntas de Pesquisa:** Proponha novas perguntas ou hipóteses que surgiram a partir dos resultados obtidos.\n",
        "\n",
        "---\n"
      ],
      "metadata": {
        "id": "OW_jVUAZvv2Q"
      }
    },
    {
      "cell_type": "markdown",
      "source": [
        "### **Exemplo de Seção \"Discussão\"**\n",
        "\n",
        "\n"
      ],
      "metadata": {
        "id": "SUvK176dvV4w"
      }
    },
    {
      "cell_type": "markdown",
      "source": [
        "\n",
        "\n",
        "\n",
        "Os resultados deste estudo mostram que o Random Forest apresentou desempenho superior na detecção de anomalias em redes de computadores, comparado ao SVM e às Redes Neurais. Esse resultado é consistente com a literatura, onde Random Forest é frequentemente destacado por sua robustez e capacidade de lidar com dados de alta dimensionalidade e com classes desbalanceadas (Breiman, 2001). A superioridade do Random Forest pode ser atribuída à sua capacidade de construir múltiplas árvores de decisão que, ao serem combinadas, resultam em um modelo mais preciso e resistente a overfitting, especialmente em conjuntos de dados complexos como o KDD Cup 1999.\n",
        "\n",
        "Embora o SVM e as Redes Neurais também tenham mostrado bons resultados, é evidente que sua performance é mais sensível às configurações dos parâmetros e ao pré-processamento dos dados. Em particular, a curva de aprendizado das Redes Neurais foi mais lenta, e seu desempenho foi limitado pela simplicidade da arquitetura utilizada. Esses achados sugerem que, em aplicações práticas onde recursos computacionais e tempo são limitados, o Random Forest pode ser a opção mais viável para a implementação em tempo real.\n",
        "\n",
        "Em termos de implicações práticas, a aplicação de Random Forest para a detecção de anomalias pode ser altamente benéfica para a segurança cibernética. A capacidade do modelo de detectar ataques com alta precisão, enquanto mantém uma baixa taxa de falsos positivos, é crucial para sistemas de defesa automatizados que devem operar em tempo real. Além disso, a relativa simplicidade de implementação e a baixa necessidade de ajustes finos tornam o Random Forest uma escolha atrativa para organizações com recursos limitados.\n",
        "\n",
        "No entanto, este estudo apresenta algumas limitações. Primeiramente, a arquitetura de Redes Neurais testada foi relativamente simples, o que pode ter impactado negativamente sua performance. Estudos futuros poderiam explorar arquiteturas mais complexas, como redes neurais profundas, que têm mostrado sucesso em tarefas semelhantes (LeCun et al., 2015). Além disso, o conjunto de dados KDD Cup 1999, apesar de amplamente utilizado, é conhecido por conter redundâncias e ser menos representativo das ameaças cibernéticas modernas. Assim, a validação dos modelos em dados mais recentes e diversificados seria necessária para confirmar a generalização dos resultados.\n",
        "\n",
        "Para pesquisas futuras, seria interessante explorar a combinação de diferentes modelos através de técnicas de ensemble learning, como stacking, que podem potencialmente combinar as vantagens de múltiplos algoritmos de aprendizado de máquina. Além disso, a investigação de métodos de aprendizado não supervisionado para detecção de anomalias, que não dependem de dados rotulados, pode ser uma área promissora, especialmente em cenários onde o rótulo de ataques é difícil de obter."
      ],
      "metadata": {
        "id": "YNkU1RHRvUtZ"
      }
    },
    {
      "cell_type": "markdown",
      "source": [
        "\n",
        "**Fim do exemplo**\n",
        "\n"
      ],
      "metadata": {
        "id": "4gCma4k6mLWU"
      }
    },
    {
      "cell_type": "markdown",
      "source": [
        "### **Discussão**\n",
        "\n",
        "\n"
      ],
      "metadata": {
        "id": "O46WVNQf1_2o"
      }
    },
    {
      "cell_type": "markdown",
      "source": [
        "Os resultados do presente estudo sobre a influência da educação na segurança pública em Pernambuco têm se mostrado satisfatórios. As amostras significativas destacam os tipos de violência mais frequentes nas diversas regiões e municípios, evidenciando que as bases de dados utilizadas, juntamente com a aplicação de aprendizado de máquina supervisionado, estão fornecendo respostas valiosas para os objetivos propostos.\n",
        "\n",
        "O modelo KNN foi selecionado devido à sua alta acurácia e simplicidade de implementação. Por ser um algoritmo não paramétrico, o KNN oferece flexibilidade ao não assumir uma distribuição específica dos dados. Embora a árvore de decisão e a random forest também tenham apresentado bons resultados, elas apresentam desvantagens que merecem consideração. As árvores de decisão são propensas ao overfitting e podem ser instáveis, enquanto a random forest, apesar de mais robusta, é complexa e difícil de interpretar, exigindo mais recursos computacionais. Essas limitações tornaram o KNN a escolha mais eficaz para este projeto.\n",
        "\n",
        "Apesar dos resultados promissores, especialmente na análise da violência, ainda existem lacunas a serem preenchidas na parte de educação. Foi identificada uma quantidade significativa de valores “NaN” nas tabelas, indicando a necessidade de mais dados. Já foram realizadas a limpeza e a criação de um dataset geral com os dados tratados, possibilitando uma análise mais robusta e atualizada dos modelos educacionais.\n",
        "\n",
        "Os resultados obtidos até o momento estão alinhados com as expectativas, e modificações necessárias serão feitas conforme o progresso da pesquisa.\n",
        "\n",
        "Em termos de implicações práticas, a aplicação do aprendizado de máquina para avaliar o impacto dos índices escolares sobre a criminalidade pode trazer benefícios significativos para a segurança pública. A capacidade dos modelos preditivos de identificar áreas de maior risco permite uma alocação mais eficaz de recursos e a formulação de políticas de prevenção. Essa abordagem possibilita o ajuste contínuo das estratégias, fundamentadas nas previsões e dados coletados ao longo do tempo, resultando em uma gestão mais adaptativa.\n",
        "\n",
        "Entretanto, o estudo apresenta algumas limitações. Primeiramente, os dados podem não refletir as tendências atuais, pois a análise foi delimitada a um período específico. Além disso, fatores externos, como políticas públicas, intervenções sociais e mudanças econômicas, não foram totalmente considerados, o que pode distorcer a interpretação da relação entre educação e criminalidade.\n",
        "\n",
        "Para aumentar a aplicabilidade dos resultados, são necessários dados mais recentes e abrangentes, além de futuras investigações que considerem essas variáveis adicionais e examinem a dinâmica em diferentes contextos. Estudos futuros podem aprimorar a compreensão da relação entre educação e criminalidade, desenvolvendo modelos que considerem dados mais atualizados e fatores externos relevantes. Com essas melhorias, será possível enriquecer a análise e proporcionar insights valiosos para a relação entre educação e segurança."
      ],
      "metadata": {
        "id": "kDbdQNPxz3sF"
      }
    },
    {
      "cell_type": "markdown",
      "source": [
        "\n",
        "## **8. Conclusão**\n"
      ],
      "metadata": {
        "id": "hUP9Bwq-znq8"
      }
    },
    {
      "cell_type": "markdown",
      "source": [],
      "metadata": {
        "id": "ytv12e919tFe"
      }
    },
    {
      "cell_type": "markdown",
      "source": [
        "### **Exemplo**"
      ],
      "metadata": {
        "id": "zOLfuuOqwjfp"
      }
    },
    {
      "cell_type": "markdown",
      "source": [
        "\n",
        "Este estudo investigou o uso de técnicas de aprendizado de máquina para abordar problemas críticos na educação, como a personalização do ensino e a identificação de dificuldades de aprendizagem. A aplicação de algoritmos de clustering e redes neurais para analisar dados de desempenho estudantil demonstrou uma capacidade significativa de detectar padrões e tendências que podem informar intervenções educacionais mais eficazes.\n",
        "\n",
        "Os resultados mostraram que o aprendizado de máquina pode oferecer soluções práticas para a personalização do ensino, ajustando os recursos educacionais de acordo com as necessidades individuais dos alunos. Por exemplo, o uso de algoritmos de clustering permitiu agrupar alunos com dificuldades semelhantes, possibilitando a criação de estratégias de ensino mais direcionadas. Além disso, as redes neurais foram eficazes na previsão de desempenhos futuros, permitindo intervenções precoces e personalizadas.\n",
        "\n",
        "No entanto, o estudo também identificou limitações importantes, como a dependência de dados de qualidade e a necessidade de grandes volumes de dados para treinar modelos eficazes. Além disso, a interpretação dos resultados dos algoritmos de aprendizado de máquina pode ser complexa e exigir uma compreensão profunda das técnicas e do contexto educacional.\n",
        "\n",
        "Para futuras pesquisas, recomendamos explorar métodos de aprendizado de máquina que integrem dados qualitativos, como feedback dos alunos e dos professores, para complementar as análises quantitativas. Além disso, a implementação de técnicas mais avançadas, como aprendizado profundo e análise de redes sociais, pode oferecer novas oportunidades para entender melhor o comportamento e o desempenho dos alunos.\n",
        "\n",
        "Em conclusão, o uso de aprendizado de máquina tem o potencial de transformar a educação, oferecendo ferramentas para personalizar o ensino e melhorar a identificação e o suporte a alunos com dificuldades. No entanto, é essencial continuar a pesquisa para superar as limitações atuais e maximizar o impacto positivo dessas tecnologias na educação."
      ],
      "metadata": {
        "id": "NUmDKw-26Qwa"
      }
    },
    {
      "cell_type": "markdown",
      "source": [
        "### **Conclusão**"
      ],
      "metadata": {
        "id": "O9upCBNez4bf"
      }
    },
    {
      "cell_type": "markdown",
      "source": [
        "Este estudo investigou a influência da educação na segurança pública em Pernambuco, utilizando técnicas de aprendizado de máquina para analisar a relação entre índices educacionais e criminalidade. A aplicação do algoritmo KNN demonstrou uma capacidade significativa de identificar padrões de violência nas diversas regiões do estado, proporcionando insights valiosos para a formulação de políticas públicas.\n",
        "\n",
        "Os resultados indicaram que a educação pode ser um fator determinante na redução da criminalidade, permitindo uma alocação mais eficaz de recursos em áreas de maior risco. A análise revelou que, embora o KNN tenha se mostrado eficaz, ainda existem lacunas, especialmente na disponibilidade e qualidade dos dados relacionados à educação, que precisam ser abordadas para fortalecer as conclusões.\n",
        "\n",
        "Entretanto, o estudo também reconheceu limitações importantes, como a dependência de dados de qualidade e a necessidade de considerar fatores externos, como políticas públicas e intervenções sociais, que podem influenciar a dinâmica entre educação e criminalidade. A interpretação dos resultados exige uma análise cuidadosa, dada a complexidade da relação entre essas variáveis.\n",
        "\n",
        "Para futuras pesquisas, recomenda-se a inclusão de dados mais recentes e abrangentes, bem como a consideração de variáveis adicionais que possam impactar a análise. A utilização de técnicas avançadas, como aprendizado profundo, pode oferecer novas perspectivas sobre a interação entre educação e segurança pública.\n",
        "\n",
        "Em conclusão, a investigação da influência da educação na segurança pública revela um potencial significativo para o desenvolvimento de políticas que abordem as causas subjacentes da criminalidade. No entanto, é crucial continuar a pesquisa para superar as limitações identificadas e maximizar o impacto positivo das iniciativas educacionais na promoção da segurança nas comunidades."
      ],
      "metadata": {
        "id": "6XyO4zKH-Env"
      }
    },
    {
      "cell_type": "markdown",
      "source": [
        "\n",
        "## **9. Referências**\n"
      ],
      "metadata": {
        "id": "BD-GNI3Pzo90"
      }
    },
    {
      "cell_type": "markdown",
      "source": [],
      "metadata": {
        "id": "JIhgQveHgrTG"
      }
    },
    {
      "cell_type": "markdown",
      "source": [
        "\n",
        "**Exemplo:**\n",
        "- Zhang, Y., Wang, J., & Li, X. (2021). Real-time anomaly detection in network traffic using CNNs. *IEEE Transactions on Network and Service Management, 18*(2), 134-145.\n",
        "- Gupta, R., & Kumar, S. (2020). Anomaly detection in network traffic using decision trees. *Journal of Network and Computer Applications, 143*, 102677.\n",
        "\n",
        "\n"
      ],
      "metadata": {
        "id": "hJF5TYe76UCZ"
      }
    },
    {
      "cell_type": "markdown",
      "source": [
        "### *Nossas Referências*"
      ],
      "metadata": {
        "id": "2XXNaueCz5XX"
      }
    },
    {
      "cell_type": "markdown",
      "source": [
        "- Cunha, D. (2022). A segurança nas escolas: Necessidade de políticas públicas e comparação internacional. JusBrasil. Link de acesso https://www.jusbrasil.com.br/artigos/a-seguranca-nas-escolas/1810982453\n",
        "\n",
        "- Teixeira, E. C. (2011). Dois ensaios acerca da relação entre criminalidade e educação. Tese de doutorado em Ciências, Universidade de São Paulo, Escola Superior de Agricultura “Luiz de Queiroz”. Link de acesso https://www.teses.usp.br/teses/disponiveis/11/11132/tde-17032011-100958/publico/Evandro_Camargos_Teixeira.pdf\n",
        "\n",
        "\n",
        "- Querido, M. V. O. (2017). A importância da educação para o enfrentamento e prevenção à criminalidade: Uma reflexão sobre políticas públicas. III Congresso Internacional Salesiano de Educação (CONISE). Link de acesso\n",
        "http://www.lo.unisal.br/sistemas/conise/anais/136_13500680_ID.pdf\n",
        "\n",
        "\n",
        "- FERREIRA, Brunna Souza; MELO, Arquimedes Fernandes; GUARINO, Poliana Carvalho; JORDÃO, Maria Perpétua Dantas(2021). Crimes Violentos Letais e Intencionais (CVLI): fatores e motivações que os influenciam em consonância com as políticas de segurança pública.  Link de acesso https://revista.forumseguranca.org.br/index.php/rbsp/article/view/1174\n",
        "\n",
        "\n",
        "- Santos e Silva (2023).  Violências escolares: uma revisão de literatura baseado na Análise de Redes Sociais. Link de acesso https://www.scielo.br/j/ensaio/a/qhSc4K9DYQrFBfr3RS9SvbS/?lang=pt\n",
        "\n",
        "- Peloggia, C. V. (2023). Estudo da correlação educação, desemprego e pobreza com a criminalidade. Universidade de Taubaté, Departamento de Gestão e Negócios, Taubaté-SP. Link para acesso http://repositorio.unitau.br/jspui/bitstream/20.500.11874/6907/1/Carol%20Vieira%20Peloggia.pdf\n",
        "\n",
        "- Thomas, M. K. (2015). Education: A more powerful weapon than war? Gettysburg College.Link para acesso:\n",
        "https://cupola.gettysburg.edu/cgi/viewcontent.cgi?article=1477&context=student_scholarship\n",
        "\n",
        "- Rodrigues, E. (2019). Como a educação influencia na violência? Link para acesso:\n",
        "https://www.jusbrasil.com.br/artigos/como-a-educacao-influencia-na-violencia/928172945\n",
        "\n",
        "- Santos, D. O., & Souza, J. C. S. (2021). Educação como prevenção à violência. Uninter. Link para acesso:\n",
        "https://educacaopublica.cecierj.edu.br/artigos/21/22/educacao-como-prevencao-a-violencia\n",
        "\n",
        "- Souza, M. A., & Teixeira, E. C. (2024). Análise dos efeitos de indicadores qualitativos e quantitativos educacionais sobre a criminalidade no estado de Minas Gerais, Brasil. Link para acesso:\n",
        "https://ve.scielo.org/scielo.php?pid=S1315-00062024000200046&script=sci_arttext&tlng=pt\n",
        "\n",
        "- Pinheiro, F. F. G., & Silva, E. J. C. (2022). Relação da baixa escolaridade com a criminalidade: Crimes ocorridos na Comarca de Belém do São Francisco-PE no ano de 2019. FACESF. Link para acesso:\n",
        "https://periodicosfacesf.com.br/index.php/revistajuridicafacesf/article/view/37\n",
        "\n",
        "- Martins, B. P. (2021). O papel da educação na prevenção da criminalidade e violência. Uninter. Link de acesso https://jus.com.br/artigos/90660/o-papel-da-educacao-na-prevencao-da-criminalidade-e-violencia\n",
        "\n",
        "- Lins, J. G. M. G., & Duarte, G. B. (2019). O impacto do capital humano sobre a remuneração: uma análise para a região metropolitana do Recife/PE. Link de acesso https://ojs.brazilianjournals.com.br/ojs/index.php/BRJD/article/view/1475\n",
        "\n",
        "- Becker, K. L., & Kassouf, A. L. (2017). Uma análise do efeito dos gastos públicos em educação sobre a criminalidade no Brasil. Universidade Federal de Santa Maria (UFSM). LInk para acesso https://www.scielo.br/j/ecos/a/rH8CZCgZ73dYqyVGKV3Xbzc/abstract/?lang=pt#\n",
        "\n",
        "- Rodrigues, M. V., et al. (2023). Inquietações na gestão de segurança pública no Brasil. Ciências Humanas, Ciências Jurídicas, Ciências Sociais, 27(118). Link para acesso https://revistaft.com.br/inquietacoes-na-gestao-de-seguranca-publica-no-brasil/\n",
        "\n"
      ],
      "metadata": {
        "id": "cMktHmTJgvRe"
      }
    },
    {
      "cell_type": "markdown",
      "source": [
        "# **Apostilas sobre a elaboração de artigos cientificos**"
      ],
      "metadata": {
        "id": "zxGK2yh5yfcE"
      }
    },
    {
      "cell_type": "markdown",
      "source": [
        "- [Manual para a elaboração de artigo cientifico_Download](http://www1.pucminas.br/documentos/artigo-abnt-templente-finalissimo.pdf)\n",
        "<br>\n",
        "- [Estrutura do artigo científico](http://scielo.iec.gov.br/scielo.php?script=sci_arttext&pid=S1679-49742012000200018)\n",
        "<br>\n",
        "- [Artigo cientifico](https://artigocientifico.com.br/)\n",
        "<br>\n",
        "Veja alguns exemplos neste link\n",
        "- [artigos](https://scholar.google.com.br/scholar?q=aprendizado+de+maquina+artigos+cientificos&hl=pt-BR&as_sdt=0&as_vis=1&oi=scholart)\n"
      ],
      "metadata": {
        "id": "bYZqSyY7yc3m"
      }
    }
  ],
  "metadata": {
    "colab": {
      "provenance": [],
      "collapsed_sections": [
        "zEpPe8H-2E0q",
        "smPk0xkjzRdG",
        "AKKkMMq_bPxH",
        "BRZYLXHWbTfP",
        "b80sQSuwBWKX",
        "47xr75gRzf_h",
        "Omk_DWI3zht5",
        "45BJoFnTac2W",
        "lviOLNB-ppra",
        "Ff3LzFUgd3Kf",
        "FJRWHJeYdmjd",
        "MZpRnG_CnIGQ",
        "8TdI8YH7zkzm",
        "wqp1xHVczmYu",
        "SUvK176dvV4w",
        "hUP9Bwq-znq8",
        "zOLfuuOqwjfp",
        "zxGK2yh5yfcE"
      ]
    },
    "kernelspec": {
      "display_name": "Python 3 (ipykernel)",
      "language": "python",
      "name": "python3"
    },
    "language_info": {
      "codemirror_mode": {
        "name": "ipython",
        "version": 3
      },
      "file_extension": ".py",
      "mimetype": "text/x-python",
      "name": "python",
      "nbconvert_exporter": "python",
      "pygments_lexer": "ipython3",
      "version": "3.11.2"
    },
    "toc-autonumbering": true
  },
  "nbformat": 4,
  "nbformat_minor": 0
}